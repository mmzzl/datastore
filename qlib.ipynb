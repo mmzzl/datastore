{
 "cells": [
  {
   "cell_type": "markdown",
   "id": "abd68eed",
   "metadata": {
    "vscode": {
     "languageId": "plaintext"
    }
   },
   "source": [
    "### 获取数据"
   ]
  },
  {
   "cell_type": "code",
   "execution_count": null,
   "id": "d33f1522",
   "metadata": {
    "vscode": {
     "languageId": "plaintext"
    }
   },
   "outputs": [],
   "source": [
    "python collector.py download_data --source_dir ~/.qlib/stock_data/source/hs300_5min_original --start 1999-01-01 --end 2025-10-28 --interval 5min \n",
    "python scripts/get_data.py qlib_data --target_dir ~/.qlib/qlib_data/hs300_data_5min --region hs300 --interval 5min"
   ]
  }
 ],
 "metadata": {
  "language_info": {
   "name": "python"
  }
 },
 "nbformat": 4,
 "nbformat_minor": 5
}
